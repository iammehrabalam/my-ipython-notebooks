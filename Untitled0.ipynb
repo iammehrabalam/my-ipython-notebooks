{
 "metadata": {
  "name": "",
  "signature": "sha256:7befa388238bc3f90275e3f7fcd1d663d455974e70b8034738b5f60a44e42660"
 },
 "nbformat": 3,
 "nbformat_minor": 0,
 "worksheets": []
}