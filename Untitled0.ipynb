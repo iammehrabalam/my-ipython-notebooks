{
 "cells": [
  {
   "cell_type": "code",
   "execution_count": 1,
   "metadata": {
    "collapsed": false
   },
   "outputs": [
    {
     "data": {
      "text/plain": [
       "u'/home/mehrab/Dropbox/minor_project'"
      ]
     },
     "execution_count": 1,
     "metadata": {},
     "output_type": "execute_result"
    }
   ],
   "source": [
    "pwd\n"
   ]
  },
  {
   "cell_type": "code",
   "execution_count": 2,
   "metadata": {
    "collapsed": true
   },
   "outputs": [],
   "source": [
    "from textprocessing import Fs, Pos, Swp\n"
   ]
  },
  {
   "cell_type": "code",
   "execution_count": 3,
   "metadata": {
    "collapsed": true
   },
   "outputs": [],
   "source": [
    "s=\"\"\"I just got my Samsung Galaxy Rush about a week ago almost, and I love using it! I can do all the same things I can do with an iPhone with it's front facing camera, like skype, and tango, or even viber! I love my new phone!!!!! Long lI've android! Lol Actually I'm going to correct myself. Not only can this phone do everything that the iPhone can (Not including Siri) but you can so much more! Having this phone or any other android will allow to have full ability to customize it to fit your style or tastes! Say you want a different font or theme on your phone, unlike the iPhone you can change it to however you want it to be! Android is that good!\"\"\""
   ]
  },
  {
   "cell_type": "code",
   "execution_count": 4,
   "metadata": {
    "collapsed": false
   },
   "outputs": [
    {
     "data": {
      "text/plain": [
       "\"I just got my Samsung Galaxy Rush about a week ago almost, and I love using it! I can do all the same things I can do with an iPhone with it's front facing camera, like skype, and tango, or even viber! I love my new phone!!!!! Long lI've android! Lol Actually I'm going to correct myself. Not only can this phone do everything that the iPhone can (Not including Siri) but you can so much more! Having this phone or any other android will allow to have full ability to customize it to fit your style or tastes! Say you want a different font or theme on your phone, unlike the iPhone you can change it to however you want it to be! Android is that good!\""
      ]
     },
     "execution_count": 4,
     "metadata": {},
     "output_type": "execute_result"
    }
   ],
   "source": [
    "s\n"
   ]
  },
  {
   "cell_type": "code",
   "execution_count": 5,
   "metadata": {
    "collapsed": false
   },
   "outputs": [
    {
     "name": "stdout",
     "output_type": "stream",
     "text": [
      "  http[s]?:\\/\\/(.*)\\s$\n",
      " happy  :\\-?[\\)\\]D]\n",
      "shock :\\-O|:\\-\\(\\)\n",
      "evil >:\\-[\\(D]\n",
      "sad :'?\\-?\\(\n",
      "uneasy :\\-/\n",
      "i just got my samsung galaxy rush about a week ago almost, and i love using it! i can do all the same things i can do with an iphone with it's front facing camera, like skype, and tango, or even viber! i love my new phone!!!!! long li've android! lol actually i'm going to correct myself. not only can this phone do everything that the iphone can (not including siri) but you can so much more! having this phone or any other android will allow to have full ability to customize it to fit your style or tastes! say you want a different font or theme on your phone, unlike the iphone you can change it to however you want it to be! android is that good!\n",
      "(['just got', 'same things', 'front facing', 'new phone', \"'ve android\", 'not including', 'other android', 'full ability', 'different font'], [('almost', 'RB'), ('love', 'VBP'), ('using', 'VBG'), ('do', 'VB'), ('do', 'VB'), (\"'s\", 'VBZ'), ('tango', 'VB'), ('even', 'RB'), ('viber', 'JJR'), ('love', 'VBP'), ('long', 'RB'), ('li', 'VBP'), ('actually', 'RB'), (\"'m\", 'VBP'), ('going', 'VBG'), ('correct', 'VB'), ('not', 'RB'), ('only', 'RB'), ('do', 'VBP'), ('everything', 'VBG'), ('(', 'VB'), ('so', 'RB'), ('much', 'RB'), ('more', 'RBR'), ('having', 'VBG'), ('allow', 'VB'), ('have', 'VB'), ('customize', 'VB'), ('fit', 'VB'), ('tastes', 'VBZ'), ('say', 'VBP'), ('want', 'VBP'), ('change', 'VB'), ('however', 'RB'), ('want', 'VBP'), ('be', 'VB'), ('android', 'VBD'), ('is', 'VBZ'), ('good', 'JJ')])\n"
     ]
    }
   ],
   "source": [
    "f=Fs(s)\n",
    "p=Pos.pos_tag(f.doc)\n",
    "print Swp.senti_words(p)"
   ]
  },
  {
   "cell_type": "code",
   "execution_count": 6,
   "metadata": {
    "collapsed": false
   },
   "outputs": [
    {
     "data": {
      "text/plain": [
       "(['just got',\n",
       "  'same things',\n",
       "  'front facing',\n",
       "  'new phone',\n",
       "  \"'ve android\",\n",
       "  'not including',\n",
       "  'other android',\n",
       "  'full ability',\n",
       "  'different font'],\n",
       " [('almost', 'RB'),\n",
       "  ('love', 'VBP'),\n",
       "  ('using', 'VBG'),\n",
       "  ('do', 'VB'),\n",
       "  ('do', 'VB'),\n",
       "  (\"'s\", 'VBZ'),\n",
       "  ('tango', 'VB'),\n",
       "  ('even', 'RB'),\n",
       "  ('viber', 'JJR'),\n",
       "  ('love', 'VBP'),\n",
       "  ('long', 'RB'),\n",
       "  ('li', 'VBP'),\n",
       "  ('actually', 'RB'),\n",
       "  (\"'m\", 'VBP'),\n",
       "  ('going', 'VBG'),\n",
       "  ('correct', 'VB'),\n",
       "  ('not', 'RB'),\n",
       "  ('only', 'RB'),\n",
       "  ('do', 'VBP'),\n",
       "  ('everything', 'VBG'),\n",
       "  ('(', 'VB'),\n",
       "  ('so', 'RB'),\n",
       "  ('much', 'RB'),\n",
       "  ('more', 'RBR'),\n",
       "  ('having', 'VBG'),\n",
       "  ('allow', 'VB'),\n",
       "  ('have', 'VB'),\n",
       "  ('customize', 'VB'),\n",
       "  ('fit', 'VB'),\n",
       "  ('tastes', 'VBZ'),\n",
       "  ('say', 'VBP'),\n",
       "  ('want', 'VBP'),\n",
       "  ('change', 'VB'),\n",
       "  ('however', 'RB'),\n",
       "  ('want', 'VBP'),\n",
       "  ('be', 'VB'),\n",
       "  ('android', 'VBD'),\n",
       "  ('is', 'VBZ'),\n",
       "  ('good', 'JJ')])"
      ]
     },
     "execution_count": 6,
     "metadata": {},
     "output_type": "execute_result"
    }
   ],
   "source": [
    "Swp.senti_words(p)"
   ]
  },
  {
   "cell_type": "code",
   "execution_count": 7,
   "metadata": {
    "collapsed": false
   },
   "outputs": [
    {
     "data": {
      "text/plain": [
       "[[('i', 'PRP'),\n",
       "  ('just', 'RB'),\n",
       "  ('got', 'VBD'),\n",
       "  ('my', 'PRP$'),\n",
       "  ('samsung', 'NN'),\n",
       "  ('galaxy', 'NN'),\n",
       "  ('rush', 'NN'),\n",
       "  ('about', 'IN'),\n",
       "  ('a', 'DT'),\n",
       "  ('week', 'NN'),\n",
       "  ('ago', 'IN'),\n",
       "  ('almost', 'RB'),\n",
       "  (',', ','),\n",
       "  ('and', 'CC'),\n",
       "  ('i', 'PRP'),\n",
       "  ('love', 'VBP'),\n",
       "  ('using', 'VBG'),\n",
       "  ('it', 'PRP'),\n",
       "  ('!', '.')],\n",
       " [('i', 'PRP'),\n",
       "  ('can', 'MD'),\n",
       "  ('do', 'VB'),\n",
       "  ('all', 'PDT'),\n",
       "  ('the', 'DT'),\n",
       "  ('same', 'JJ'),\n",
       "  ('things', 'NNS'),\n",
       "  ('i', 'PRP'),\n",
       "  ('can', 'MD'),\n",
       "  ('do', 'VB'),\n",
       "  ('with', 'IN'),\n",
       "  ('an', 'DT'),\n",
       "  ('iphone', 'NN'),\n",
       "  ('with', 'IN'),\n",
       "  ('it', 'PRP'),\n",
       "  (\"'s\", 'VBZ'),\n",
       "  ('front', 'JJ'),\n",
       "  ('facing', 'NN'),\n",
       "  ('camera', 'NN'),\n",
       "  (',', ','),\n",
       "  ('like', 'IN'),\n",
       "  ('skype', 'NN'),\n",
       "  (',', ','),\n",
       "  ('and', 'CC'),\n",
       "  ('tango', 'VB'),\n",
       "  (',', ','),\n",
       "  ('or', 'CC'),\n",
       "  ('even', 'RB'),\n",
       "  ('viber', 'JJR'),\n",
       "  ('!', '.')],\n",
       " [('i', 'PRP'),\n",
       "  ('love', 'VBP'),\n",
       "  ('my', 'PRP$'),\n",
       "  ('new', 'JJ'),\n",
       "  ('phone', 'NN'),\n",
       "  ('!', '.'),\n",
       "  ('!', '.'),\n",
       "  ('!', '.'),\n",
       "  ('!', '.'),\n",
       "  ('!', '.')],\n",
       " [('long', 'RB'), ('li', 'VBP'), (\"'ve\", 'JJ'), ('android', 'NN'), ('!', '.')],\n",
       " [('lol', 'NN'),\n",
       "  ('actually', 'RB'),\n",
       "  ('i', 'PRP'),\n",
       "  (\"'m\", 'VBP'),\n",
       "  ('going', 'VBG'),\n",
       "  ('to', 'TO'),\n",
       "  ('correct', 'VB'),\n",
       "  ('myself', 'PRP'),\n",
       "  ('.', '.')],\n",
       " [('not', 'RB'),\n",
       "  ('only', 'RB'),\n",
       "  ('can', 'MD'),\n",
       "  ('this', 'DT'),\n",
       "  ('phone', 'NN'),\n",
       "  ('do', 'VBP'),\n",
       "  ('everything', 'VBG'),\n",
       "  ('that', 'IN'),\n",
       "  ('the', 'DT'),\n",
       "  ('iphone', 'NN'),\n",
       "  ('can', 'MD'),\n",
       "  ('(', 'VB'),\n",
       "  ('not', 'RB'),\n",
       "  ('including', 'VBG'),\n",
       "  ('siri', 'NN'),\n",
       "  (')', ':'),\n",
       "  ('but', 'CC'),\n",
       "  ('you', 'PRP'),\n",
       "  ('can', 'MD'),\n",
       "  ('so', 'RB'),\n",
       "  ('much', 'RB'),\n",
       "  ('more', 'RBR'),\n",
       "  ('!', '.')],\n",
       " [('having', 'VBG'),\n",
       "  ('this', 'DT'),\n",
       "  ('phone', 'NN'),\n",
       "  ('or', 'CC'),\n",
       "  ('any', 'DT'),\n",
       "  ('other', 'JJ'),\n",
       "  ('android', 'JJ'),\n",
       "  ('will', 'MD'),\n",
       "  ('allow', 'VB'),\n",
       "  ('to', 'TO'),\n",
       "  ('have', 'VB'),\n",
       "  ('full', 'JJ'),\n",
       "  ('ability', 'NN'),\n",
       "  ('to', 'TO'),\n",
       "  ('customize', 'VB'),\n",
       "  ('it', 'PRP'),\n",
       "  ('to', 'TO'),\n",
       "  ('fit', 'VB'),\n",
       "  ('your', 'PRP$'),\n",
       "  ('style', 'NN'),\n",
       "  ('or', 'CC'),\n",
       "  ('tastes', 'VBZ'),\n",
       "  ('!', '.')],\n",
       " [('say', 'VBP'),\n",
       "  ('you', 'PRP'),\n",
       "  ('want', 'VBP'),\n",
       "  ('a', 'DT'),\n",
       "  ('different', 'JJ'),\n",
       "  ('font', 'NN'),\n",
       "  ('or', 'CC'),\n",
       "  ('theme', 'NN'),\n",
       "  ('on', 'IN'),\n",
       "  ('your', 'PRP$'),\n",
       "  ('phone', 'NN'),\n",
       "  (',', ','),\n",
       "  ('unlike', 'IN'),\n",
       "  ('the', 'DT'),\n",
       "  ('iphone', 'NN'),\n",
       "  ('you', 'PRP'),\n",
       "  ('can', 'MD'),\n",
       "  ('change', 'VB'),\n",
       "  ('it', 'PRP'),\n",
       "  ('to', 'TO'),\n",
       "  ('however', 'RB'),\n",
       "  ('you', 'PRP'),\n",
       "  ('want', 'VBP'),\n",
       "  ('it', 'PRP'),\n",
       "  ('to', 'TO'),\n",
       "  ('be', 'VB'),\n",
       "  ('!', '.')],\n",
       " [('android', 'VBD'),\n",
       "  ('is', 'VBZ'),\n",
       "  ('that', 'IN'),\n",
       "  ('good', 'JJ'),\n",
       "  ('!', '.')]]"
      ]
     },
     "execution_count": 7,
     "metadata": {},
     "output_type": "execute_result"
    }
   ],
   "source": [
    "p"
   ]
  },
  {
   "cell_type": "code",
   "execution_count": null,
   "metadata": {
    "collapsed": true
   },
   "outputs": [],
   "source": []
  }
 ],
 "metadata": {
  "kernelspec": {
   "display_name": "Python 2",
   "language": "python",
   "name": "python2"
  },
  "language_info": {
   "codemirror_mode": {
    "name": "ipython",
    "version": 2
   },
   "file_extension": ".py",
   "mimetype": "text/x-python",
   "name": "python",
   "nbconvert_exporter": "python",
   "pygments_lexer": "ipython2",
   "version": "2.7.8"
  }
 },
 "nbformat": 4,
 "nbformat_minor": 0
}
